{
 "cells": [
  {
   "cell_type": "markdown",
   "metadata": {},
   "source": [
    "# Carregando os conjuntos de dados"
   ]
  },
  {
   "cell_type": "code",
   "execution_count": 1,
   "metadata": {},
   "outputs": [],
   "source": [
    "import pandas as pd"
   ]
  },
  {
   "cell_type": "code",
   "execution_count": 2,
   "metadata": {},
   "outputs": [],
   "source": [
    "local_0 = pd.read_csv('/datasets/geo_data_0.csv')\n",
    "local_1 = pd.read_csv('/datasets/geo_data_1.csv')\n",
    "local_2 = pd.read_csv('/datasets/geo_data_2.csv')"
   ]
  },
  {
   "cell_type": "code",
   "execution_count": 3,
   "metadata": {},
   "outputs": [
    {
     "name": "stdout",
     "output_type": "stream",
     "text": [
      "<class 'pandas.core.frame.DataFrame'>\n",
      "RangeIndex: 100000 entries, 0 to 99999\n",
      "Data columns (total 5 columns):\n",
      " #   Column   Non-Null Count   Dtype  \n",
      "---  ------   --------------   -----  \n",
      " 0   id       100000 non-null  object \n",
      " 1   f0       100000 non-null  float64\n",
      " 2   f1       100000 non-null  float64\n",
      " 3   f2       100000 non-null  float64\n",
      " 4   product  100000 non-null  float64\n",
      "dtypes: float64(4), object(1)\n",
      "memory usage: 3.8+ MB\n",
      "None\n",
      "          id        f0        f1        f2     product\n",
      "0      txEyH  0.705745 -0.497823  1.221170  105.280062\n",
      "1      2acmU  1.334711 -0.340164  4.365080   73.037750\n",
      "2      409Wp  1.022732  0.151990  1.419926   85.265647\n",
      "3      iJLyR -0.032172  0.139033  2.978566  168.620776\n",
      "4      Xdl7t  1.988431  0.155413  4.751769  154.036647\n",
      "...      ...       ...       ...       ...         ...\n",
      "99995  DLsed  0.971957  0.370953  6.075346  110.744026\n",
      "99996  QKivN  1.392429 -0.382606  1.273912  122.346843\n",
      "99997  3rnvd  1.029585  0.018787 -1.348308   64.375443\n",
      "99998  7kl59  0.998163 -0.528582  1.583869   74.040764\n",
      "99999  1CWhH  1.764754 -0.266417  5.722849  149.633246\n",
      "\n",
      "[100000 rows x 5 columns]\n",
      "                  f0             f1             f2        product\n",
      "count  100000.000000  100000.000000  100000.000000  100000.000000\n",
      "mean        0.500419       0.250143       2.502647      92.500000\n",
      "std         0.871832       0.504433       3.248248      44.288691\n",
      "min        -1.408605      -0.848218     -12.088328       0.000000\n",
      "25%        -0.072580      -0.200881       0.287748      56.497507\n",
      "50%         0.502360       0.250252       2.515969      91.849972\n",
      "75%         1.073581       0.700646       4.715088     128.564089\n",
      "max         2.362331       1.343769      16.003790     185.364347\n"
     ]
    }
   ],
   "source": [
    "print(local_0.info())\n",
    "print(local_0)\n",
    "print(local_0.describe())"
   ]
  },
  {
   "cell_type": "markdown",
   "metadata": {},
   "source": [
    "Tudo Ok com o conjunto de dados do local_0"
   ]
  },
  {
   "cell_type": "code",
   "execution_count": 5,
   "metadata": {},
   "outputs": [
    {
     "name": "stdout",
     "output_type": "stream",
     "text": [
      "<class 'pandas.core.frame.DataFrame'>\n",
      "RangeIndex: 100000 entries, 0 to 99999\n",
      "Data columns (total 5 columns):\n",
      " #   Column   Non-Null Count   Dtype  \n",
      "---  ------   --------------   -----  \n",
      " 0   id       100000 non-null  object \n",
      " 1   f0       100000 non-null  float64\n",
      " 2   f1       100000 non-null  float64\n",
      " 3   f2       100000 non-null  float64\n",
      " 4   product  100000 non-null  float64\n",
      "dtypes: float64(4), object(1)\n",
      "memory usage: 3.8+ MB\n",
      "None\n",
      "          id         f0         f1        f2     product\n",
      "0      kBEdx -15.001348  -8.276000 -0.005876    3.179103\n",
      "1      62mP7  14.272088  -3.475083  0.999183   26.953261\n",
      "2      vyE1P   6.263187  -5.948386  5.001160  134.766305\n",
      "3      KcrkZ -13.081196 -11.506057  4.999415  137.945408\n",
      "4      AHL4O  12.702195  -8.147433  5.004363  134.766305\n",
      "...      ...        ...        ...       ...         ...\n",
      "99995  QywKC   9.535637  -6.878139  1.998296   53.906522\n",
      "99996  ptvty -10.160631 -12.558096  5.005581  137.945408\n",
      "99997  09gWa  -7.378891  -3.084104  4.998651  137.945408\n",
      "99998  rqwUm   0.665714  -6.152593  1.000146   30.132364\n",
      "99999  relB0  -3.426139  -7.794274 -0.003299    3.179103\n",
      "\n",
      "[100000 rows x 5 columns]\n",
      "                  f0             f1             f2        product\n",
      "count  100000.000000  100000.000000  100000.000000  100000.000000\n",
      "mean        1.141296      -4.796579       2.494541      68.825000\n",
      "std         8.965932       5.119872       1.703572      45.944423\n",
      "min       -31.609576     -26.358598      -0.018144       0.000000\n",
      "25%        -6.298551      -8.267985       1.000021      26.953261\n",
      "50%         1.153055      -4.813172       2.011479      57.085625\n",
      "75%         8.621015      -1.332816       3.999904     107.813044\n",
      "max        29.421755      18.734063       5.019721     137.945408\n"
     ]
    }
   ],
   "source": [
    "print(local_1.info())\n",
    "print(local_1)\n",
    "print(local_1.describe())"
   ]
  },
  {
   "cell_type": "markdown",
   "metadata": {},
   "source": [
    "Tudo ok com o conjunto de dados do local_1"
   ]
  },
  {
   "cell_type": "code",
   "execution_count": 7,
   "metadata": {},
   "outputs": [
    {
     "name": "stdout",
     "output_type": "stream",
     "text": [
      "<class 'pandas.core.frame.DataFrame'>\n",
      "RangeIndex: 100000 entries, 0 to 99999\n",
      "Data columns (total 5 columns):\n",
      " #   Column   Non-Null Count   Dtype  \n",
      "---  ------   --------------   -----  \n",
      " 0   id       100000 non-null  object \n",
      " 1   f0       100000 non-null  float64\n",
      " 2   f1       100000 non-null  float64\n",
      " 3   f2       100000 non-null  float64\n",
      " 4   product  100000 non-null  float64\n",
      "dtypes: float64(4), object(1)\n",
      "memory usage: 3.8+ MB\n",
      "None\n",
      "          id        f0        f1        f2     product\n",
      "0      fwXo0 -1.146987  0.963328 -0.828965   27.758673\n",
      "1      WJtFt  0.262778  0.269839 -2.530187   56.069697\n",
      "2      ovLUW  0.194587  0.289035 -5.586433   62.871910\n",
      "3      q6cA6  2.236060 -0.553760  0.930038  114.572842\n",
      "4      WPMUX -0.515993  1.716266  5.899011  149.600746\n",
      "...      ...       ...       ...       ...         ...\n",
      "99995  4GxBu -1.777037  1.125220  6.263374  172.327046\n",
      "99996  YKFjq -1.261523 -0.894828  2.524545  138.748846\n",
      "99997  tKPY3 -1.199934 -2.957637  5.219411  157.080080\n",
      "99998  nmxp2 -2.419896  2.417221 -5.548444   51.795253\n",
      "99999  V9kWn -2.551421 -2.025625  6.090891  102.775767\n",
      "\n",
      "[100000 rows x 5 columns]\n",
      "                  f0             f1             f2        product\n",
      "count  100000.000000  100000.000000  100000.000000  100000.000000\n",
      "mean        0.002023      -0.002081       2.495128      95.000000\n",
      "std         1.732045       1.730417       3.473445      44.749921\n",
      "min        -8.760004      -7.084020     -11.970335       0.000000\n",
      "25%        -1.162288      -1.174820       0.130359      59.450441\n",
      "50%         0.009424      -0.009482       2.484236      94.925613\n",
      "75%         1.158535       1.163678       4.858794     130.595027\n",
      "max         7.238262       7.844801      16.739402     190.029838\n"
     ]
    }
   ],
   "source": [
    "print(local_2.info())\n",
    "print(local_2)\n",
    "print(local_2.describe())"
   ]
  },
  {
   "cell_type": "markdown",
   "metadata": {},
   "source": [
    "Tudo ok com o conjunto de dados local_2"
   ]
  },
  {
   "cell_type": "markdown",
   "metadata": {},
   "source": [
    "# Treinando o Modelo para cada local"
   ]
  },
  {
   "cell_type": "code",
   "execution_count": 9,
   "metadata": {},
   "outputs": [],
   "source": [
    "# Importando bibliotecas\n",
    "from sklearn.model_selection import train_test_split\n",
    "from sklearn.metrics import mean_squared_error\n",
    "from sklearn.linear_model import LinearRegression"
   ]
  },
  {
   "cell_type": "code",
   "execution_count": 10,
   "metadata": {},
   "outputs": [],
   "source": [
    "# Definindo as características do modelo, todas exceto \"Product\" e \"id\"\n",
    "features_0 = local_0.drop(['product', 'id'], axis=1)\n",
    "features_1 = local_1.drop(['product', 'id'], axis=1)\n",
    "features_2 = local_2.drop(['product', 'id'], axis=1)\n",
    "\n",
    "# Defininindo os objetivos\n",
    "target_0 = local_0['product']\n",
    "target_1 = local_1['product']\n",
    "target_2 = local_2['product']"
   ]
  },
  {
   "cell_type": "markdown",
   "metadata": {},
   "source": [
    "## Local_0"
   ]
  },
  {
   "cell_type": "code",
   "execution_count": 42,
   "metadata": {},
   "outputs": [],
   "source": [
    "# Separando os dados para treino e teste, colocando 75% em terinamento e o resto em validdação\n",
    "features_train_0, features_valid_0, target_train_0, target_valid_0 = train_test_split(\n",
    "    features_0,target_0 , test_size=0.25, random_state=12345)"
   ]
  },
  {
   "cell_type": "code",
   "execution_count": 45,
   "metadata": {},
   "outputs": [
    {
     "name": "stdout",
     "output_type": "stream",
     "text": [
      "Tamanho do conjunto features_train_0: 0.75\n",
      "Tamanho do conjunto target_train_0: 0.75\n"
     ]
    }
   ],
   "source": [
    "# Conferindo se os dados foram separados corretamente\n",
    "print('Tamanho do conjunto features_train_0:',len(features_train_0)/len(features_0))\n",
    "print('Tamanho do conjunto target_train_0:', len(target_train_0)/len(target_0))"
   ]
  },
  {
   "cell_type": "code",
   "execution_count": 12,
   "metadata": {},
   "outputs": [
    {
     "name": "stdout",
     "output_type": "stream",
     "text": [
      "O REQM do modelo de regressão linear no conjunto de validação: 37.5794217150813\n",
      "O valor médio no conjunto de validação do local_0: 92.59256778438035\n"
     ]
    }
   ],
   "source": [
    "# Treinando o modelo de Regressão Linear\n",
    "model = LinearRegression()\n",
    "model.fit(features_train_0,target_train_0) \n",
    "predictions_valid_0 = model.predict(features_valid_0)\n",
    "\n",
    "# Calculando o REQM do conjunto de validação\n",
    "result = mean_squared_error(target_valid_0, predictions_valid_0) ** 0.5\n",
    "print(\"O REQM do modelo de regressão linear no conjunto de validação:\", result)\n",
    "\n",
    "# Calculando o valor médio de reservas da predição\n",
    "med_0 = predictions_valid_0.mean()\n",
    "print(\"O valor médio no conjunto de validação do local_0:\", med_0)"
   ]
  },
  {
   "cell_type": "code",
   "execution_count": 13,
   "metadata": {},
   "outputs": [
    {
     "data": {
      "text/html": [
       "<div>\n",
       "<style scoped>\n",
       "    .dataframe tbody tr th:only-of-type {\n",
       "        vertical-align: middle;\n",
       "    }\n",
       "\n",
       "    .dataframe tbody tr th {\n",
       "        vertical-align: top;\n",
       "    }\n",
       "\n",
       "    .dataframe thead th {\n",
       "        text-align: right;\n",
       "    }\n",
       "</style>\n",
       "<table border=\"1\" class=\"dataframe\">\n",
       "  <thead>\n",
       "    <tr style=\"text-align: right;\">\n",
       "      <th></th>\n",
       "      <th>target_valid</th>\n",
       "      <th>predictions_valid</th>\n",
       "    </tr>\n",
       "  </thead>\n",
       "  <tbody>\n",
       "    <tr>\n",
       "      <th>71751</th>\n",
       "      <td>10.038645</td>\n",
       "      <td>95.894952</td>\n",
       "    </tr>\n",
       "    <tr>\n",
       "      <th>80493</th>\n",
       "      <td>114.551489</td>\n",
       "      <td>77.572583</td>\n",
       "    </tr>\n",
       "    <tr>\n",
       "      <th>2655</th>\n",
       "      <td>132.603635</td>\n",
       "      <td>77.892640</td>\n",
       "    </tr>\n",
       "    <tr>\n",
       "      <th>53233</th>\n",
       "      <td>169.072125</td>\n",
       "      <td>90.175134</td>\n",
       "    </tr>\n",
       "    <tr>\n",
       "      <th>91141</th>\n",
       "      <td>122.325180</td>\n",
       "      <td>70.510088</td>\n",
       "    </tr>\n",
       "    <tr>\n",
       "      <th>9539</th>\n",
       "      <td>37.735331</td>\n",
       "      <td>69.127076</td>\n",
       "    </tr>\n",
       "    <tr>\n",
       "      <th>8482</th>\n",
       "      <td>139.227191</td>\n",
       "      <td>125.106759</td>\n",
       "    </tr>\n",
       "    <tr>\n",
       "      <th>30284</th>\n",
       "      <td>72.491987</td>\n",
       "      <td>87.643849</td>\n",
       "    </tr>\n",
       "    <tr>\n",
       "      <th>66393</th>\n",
       "      <td>11.465993</td>\n",
       "      <td>86.035871</td>\n",
       "    </tr>\n",
       "    <tr>\n",
       "      <th>99584</th>\n",
       "      <td>110.562031</td>\n",
       "      <td>98.655311</td>\n",
       "    </tr>\n",
       "  </tbody>\n",
       "</table>\n",
       "</div>"
      ],
      "text/plain": [
       "       target_valid  predictions_valid\n",
       "71751     10.038645          95.894952\n",
       "80493    114.551489          77.572583\n",
       "2655     132.603635          77.892640\n",
       "53233    169.072125          90.175134\n",
       "91141    122.325180          70.510088\n",
       "9539      37.735331          69.127076\n",
       "8482     139.227191         125.106759\n",
       "30284     72.491987          87.643849\n",
       "66393     11.465993          86.035871\n",
       "99584    110.562031          98.655311"
      ]
     },
     "execution_count": 13,
     "metadata": {},
     "output_type": "execute_result"
    }
   ],
   "source": [
    "# Salvando as predições e respostas corretas para o conjunto de validação\n",
    "valid_0 = pd.DataFrame({'target_valid': target_valid_0, 'predictions_valid': predictions_valid_0})\n",
    "valid_0.head(10)"
   ]
  },
  {
   "cell_type": "markdown",
   "metadata": {},
   "source": [
    "É possível perceber que o REQM do modelo de regressão linear do conjunto de validação está acima de 0, mas ao comparar com o valor médio do nosso conjunto de validação, podemos considerar aceitável o valor do REQM pois os valores da média é quase 3x maior que a diferença do REQM."
   ]
  },
  {
   "cell_type": "markdown",
   "metadata": {},
   "source": [
    "## Local_1"
   ]
  },
  {
   "cell_type": "code",
   "execution_count": 14,
   "metadata": {},
   "outputs": [],
   "source": [
    "# Separando os dados para treino e teste, colocando 75% em terinamento e o resto em validdação\n",
    "features_train_1, features_valid_1, target_train_1, target_valid_1= train_test_split(\n",
    "    features_1,target_1 , test_size=0.25, random_state=12345)"
   ]
  },
  {
   "cell_type": "code",
   "execution_count": 46,
   "metadata": {},
   "outputs": [
    {
     "name": "stdout",
     "output_type": "stream",
     "text": [
      "Tamanho do conjunto features_train_1: 0.75\n",
      "Tamanho do conjunto target_train_1: 0.75\n"
     ]
    }
   ],
   "source": [
    "# Conferindo se os dados foram separados corretamente\n",
    "print('Tamanho do conjunto features_train_1:',len(features_train_1)/len(features_1))\n",
    "print('Tamanho do conjunto target_train_1:', len(target_train_1)/len(target_1))"
   ]
  },
  {
   "cell_type": "code",
   "execution_count": 15,
   "metadata": {},
   "outputs": [
    {
     "name": "stdout",
     "output_type": "stream",
     "text": [
      "O REQM do modelo de regressão linear no conjunto de validação: 0.893099286775617\n",
      "O valor médio no conjunto de validação do local_1: 68.728546895446\n"
     ]
    }
   ],
   "source": [
    "# Treinando o modelo de Regressão Linear\n",
    "model = LinearRegression()\n",
    "model.fit(features_train_1,target_train_1) \n",
    "predictions_valid_1 = model.predict(features_valid_1)\n",
    "\n",
    "# Calculando o REQM do conjunto de validação\n",
    "result = mean_squared_error(target_valid_1, predictions_valid_1) ** 0.5\n",
    "print(\"O REQM do modelo de regressão linear no conjunto de validação:\", result)\n",
    "\n",
    "# Calculando o valor médio de reservas da predição\n",
    "med_1 = predictions_valid_1.mean()\n",
    "print(\"O valor médio no conjunto de validação do local_1:\", med_1)"
   ]
  },
  {
   "cell_type": "code",
   "execution_count": 16,
   "metadata": {},
   "outputs": [
    {
     "data": {
      "text/html": [
       "<div>\n",
       "<style scoped>\n",
       "    .dataframe tbody tr th:only-of-type {\n",
       "        vertical-align: middle;\n",
       "    }\n",
       "\n",
       "    .dataframe tbody tr th {\n",
       "        vertical-align: top;\n",
       "    }\n",
       "\n",
       "    .dataframe thead th {\n",
       "        text-align: right;\n",
       "    }\n",
       "</style>\n",
       "<table border=\"1\" class=\"dataframe\">\n",
       "  <thead>\n",
       "    <tr style=\"text-align: right;\">\n",
       "      <th></th>\n",
       "      <th>target_valid</th>\n",
       "      <th>predictions_valid</th>\n",
       "    </tr>\n",
       "  </thead>\n",
       "  <tbody>\n",
       "    <tr>\n",
       "      <th>71751</th>\n",
       "      <td>80.859783</td>\n",
       "      <td>82.663314</td>\n",
       "    </tr>\n",
       "    <tr>\n",
       "      <th>80493</th>\n",
       "      <td>53.906522</td>\n",
       "      <td>54.431786</td>\n",
       "    </tr>\n",
       "    <tr>\n",
       "      <th>2655</th>\n",
       "      <td>30.132364</td>\n",
       "      <td>29.748760</td>\n",
       "    </tr>\n",
       "    <tr>\n",
       "      <th>53233</th>\n",
       "      <td>53.906522</td>\n",
       "      <td>53.552133</td>\n",
       "    </tr>\n",
       "    <tr>\n",
       "      <th>91141</th>\n",
       "      <td>0.000000</td>\n",
       "      <td>1.243856</td>\n",
       "    </tr>\n",
       "    <tr>\n",
       "      <th>9539</th>\n",
       "      <td>110.992147</td>\n",
       "      <td>111.438490</td>\n",
       "    </tr>\n",
       "    <tr>\n",
       "      <th>8482</th>\n",
       "      <td>137.945408</td>\n",
       "      <td>137.134374</td>\n",
       "    </tr>\n",
       "    <tr>\n",
       "      <th>30284</th>\n",
       "      <td>84.038886</td>\n",
       "      <td>82.888902</td>\n",
       "    </tr>\n",
       "    <tr>\n",
       "      <th>66393</th>\n",
       "      <td>110.992147</td>\n",
       "      <td>110.897311</td>\n",
       "    </tr>\n",
       "    <tr>\n",
       "      <th>99584</th>\n",
       "      <td>26.953261</td>\n",
       "      <td>29.219306</td>\n",
       "    </tr>\n",
       "  </tbody>\n",
       "</table>\n",
       "</div>"
      ],
      "text/plain": [
       "       target_valid  predictions_valid\n",
       "71751     80.859783          82.663314\n",
       "80493     53.906522          54.431786\n",
       "2655      30.132364          29.748760\n",
       "53233     53.906522          53.552133\n",
       "91141      0.000000           1.243856\n",
       "9539     110.992147         111.438490\n",
       "8482     137.945408         137.134374\n",
       "30284     84.038886          82.888902\n",
       "66393    110.992147         110.897311\n",
       "99584     26.953261          29.219306"
      ]
     },
     "execution_count": 16,
     "metadata": {},
     "output_type": "execute_result"
    }
   ],
   "source": [
    "# Salvando as predições e respostas corretas para o conjunto de validação\n",
    "valid_1 = pd.DataFrame({'target_valid': target_valid_1, 'predictions_valid': predictions_valid_1})\n",
    "valid_1.head(10)"
   ]
  },
  {
   "cell_type": "markdown",
   "metadata": {},
   "source": [
    "É possível perceber que o REQM do modelo de regressão linear do conjunto de validação está bem próximo de 0, ou seja, quase não existe variação entre o conjunto de validação e o de teste. Podemos dizer que os valores são mais confiáveis que as demais regiões."
   ]
  },
  {
   "cell_type": "markdown",
   "metadata": {},
   "source": [
    "## Local_2"
   ]
  },
  {
   "cell_type": "code",
   "execution_count": 17,
   "metadata": {},
   "outputs": [],
   "source": [
    "# Separando os dados para treino e teste, colocando 75% em terinamento e o resto em validdação\n",
    "features_train_2, features_valid_2, target_train_2, target_valid_2= train_test_split(\n",
    "    features_2,target_2 , test_size=0.25, random_state=12345)"
   ]
  },
  {
   "cell_type": "code",
   "execution_count": 47,
   "metadata": {},
   "outputs": [
    {
     "name": "stdout",
     "output_type": "stream",
     "text": [
      "Tamanho do conjunto features_train_2: 0.75\n",
      "Tamanho do conjunto target_train_2: 0.75\n"
     ]
    }
   ],
   "source": [
    "# Conferindo se os dados foram separados corretamente\n",
    "print('Tamanho do conjunto features_train_2:',len(features_train_2)/len(features_2))\n",
    "print('Tamanho do conjunto target_train_2:', len(target_train_2)/len(target_2))"
   ]
  },
  {
   "cell_type": "code",
   "execution_count": 18,
   "metadata": {},
   "outputs": [
    {
     "name": "stdout",
     "output_type": "stream",
     "text": [
      "O REQM do modelo de regressão linear no conjunto de validação: 40.02970873393434\n",
      "O valor médio no conjunto de validação do local_2: 94.96504596800489\n"
     ]
    }
   ],
   "source": [
    "# Treinando o modelo de Regressão Linear\n",
    "model = LinearRegression()\n",
    "model.fit(features_train_2,target_train_2) \n",
    "predictions_valid_2 = model.predict(features_valid_2)\n",
    "\n",
    "# Calculando o REQM do conjunto de validação\n",
    "result = mean_squared_error(target_valid_2, predictions_valid_2) ** 0.5\n",
    "print(\"O REQM do modelo de regressão linear no conjunto de validação:\", result)\n",
    "\n",
    "# Calculando o valor médio de reservas da predição\n",
    "med_2 = predictions_valid_2.mean()\n",
    "print(\"O valor médio no conjunto de validação do local_2:\", med_2)"
   ]
  },
  {
   "cell_type": "code",
   "execution_count": 19,
   "metadata": {},
   "outputs": [
    {
     "data": {
      "text/html": [
       "<div>\n",
       "<style scoped>\n",
       "    .dataframe tbody tr th:only-of-type {\n",
       "        vertical-align: middle;\n",
       "    }\n",
       "\n",
       "    .dataframe tbody tr th {\n",
       "        vertical-align: top;\n",
       "    }\n",
       "\n",
       "    .dataframe thead th {\n",
       "        text-align: right;\n",
       "    }\n",
       "</style>\n",
       "<table border=\"1\" class=\"dataframe\">\n",
       "  <thead>\n",
       "    <tr style=\"text-align: right;\">\n",
       "      <th></th>\n",
       "      <th>target_valid</th>\n",
       "      <th>predictions_valid</th>\n",
       "    </tr>\n",
       "  </thead>\n",
       "  <tbody>\n",
       "    <tr>\n",
       "      <th>71751</th>\n",
       "      <td>61.212375</td>\n",
       "      <td>93.599633</td>\n",
       "    </tr>\n",
       "    <tr>\n",
       "      <th>80493</th>\n",
       "      <td>41.850118</td>\n",
       "      <td>75.105159</td>\n",
       "    </tr>\n",
       "    <tr>\n",
       "      <th>2655</th>\n",
       "      <td>57.776581</td>\n",
       "      <td>90.066809</td>\n",
       "    </tr>\n",
       "    <tr>\n",
       "      <th>53233</th>\n",
       "      <td>100.053761</td>\n",
       "      <td>105.162375</td>\n",
       "    </tr>\n",
       "    <tr>\n",
       "      <th>91141</th>\n",
       "      <td>109.897122</td>\n",
       "      <td>115.303310</td>\n",
       "    </tr>\n",
       "    <tr>\n",
       "      <th>9539</th>\n",
       "      <td>105.904629</td>\n",
       "      <td>121.939197</td>\n",
       "    </tr>\n",
       "    <tr>\n",
       "      <th>8482</th>\n",
       "      <td>51.646180</td>\n",
       "      <td>119.053040</td>\n",
       "    </tr>\n",
       "    <tr>\n",
       "      <th>30284</th>\n",
       "      <td>173.162121</td>\n",
       "      <td>75.396575</td>\n",
       "    </tr>\n",
       "    <tr>\n",
       "      <th>66393</th>\n",
       "      <td>113.143072</td>\n",
       "      <td>111.400543</td>\n",
       "    </tr>\n",
       "    <tr>\n",
       "      <th>99584</th>\n",
       "      <td>56.803215</td>\n",
       "      <td>84.029320</td>\n",
       "    </tr>\n",
       "  </tbody>\n",
       "</table>\n",
       "</div>"
      ],
      "text/plain": [
       "       target_valid  predictions_valid\n",
       "71751     61.212375          93.599633\n",
       "80493     41.850118          75.105159\n",
       "2655      57.776581          90.066809\n",
       "53233    100.053761         105.162375\n",
       "91141    109.897122         115.303310\n",
       "9539     105.904629         121.939197\n",
       "8482      51.646180         119.053040\n",
       "30284    173.162121          75.396575\n",
       "66393    113.143072         111.400543\n",
       "99584     56.803215          84.029320"
      ]
     },
     "execution_count": 19,
     "metadata": {},
     "output_type": "execute_result"
    }
   ],
   "source": [
    "# Salvando as predições e respostas corretas para o conjunto de validação\n",
    "valid_2 = pd.DataFrame({'target_valid': target_valid_2, 'predictions_valid': predictions_valid_2})\n",
    "valid_2.head(10)"
   ]
  },
  {
   "cell_type": "markdown",
   "metadata": {},
   "source": [
    "É possível perceber que o REQM do modelo de regressão linear do conjunto de validação está bem acima de 0, mas ao comparar com o valor médio do nosso conjunto de validação, percebemos que o valor médio está mais que o dobro de diferença do REQM, não considero essa diferença média entre o modelo e o teste aceitável pois pode interfeir na previsão de forma mais acentuada."
   ]
  },
  {
   "cell_type": "markdown",
   "metadata": {},
   "source": [
    "# Cálculo do Lucro"
   ]
  },
  {
   "cell_type": "code",
   "execution_count": 20,
   "metadata": {},
   "outputs": [],
   "source": [
    "# Custo para desenvolvimento de 200 poços \n",
    "custo_200 = 100000000\n",
    "custo_1 = custo_200/200\n",
    "\n",
    "# Receita por unidade de produto (sendo que cada unidade de produto = 1.000 barris com lucro de 4,5 dólares por barril)\n",
    "receita = 4500"
   ]
  },
  {
   "cell_type": "code",
   "execution_count": 21,
   "metadata": {},
   "outputs": [
    {
     "data": {
      "text/plain": [
       "111.11111111111111"
      ]
     },
     "execution_count": 21,
     "metadata": {},
     "output_type": "execute_result"
    }
   ],
   "source": [
    "# cálculo para desenvolver um novo poço com lucro, QUAL VALOR DE PRODUTO QUE A RESERVA DEVE APRESENTAR?\n",
    "\n",
    "reserva = custo_1/receita\n",
    "reserva"
   ]
  },
  {
   "cell_type": "code",
   "execution_count": 22,
   "metadata": {},
   "outputs": [
    {
     "name": "stdout",
     "output_type": "stream",
     "text": [
      "O valor médio das reservas de petróleo do local_0: 92.50000000000001\n",
      "O valor médio das reservas de petróleo do local_1: 68.82500000000002\n",
      "O valor médio das reservas de petróleo do local_2: 95.00000000000004\n"
     ]
    }
   ],
   "source": [
    "# O poço precisa ter mais de 112 unidades de produto em reserva para possuir lucro.\n",
    "print('O valor médio das reservas de petróleo do local_0:', local_0['product'].mean())\n",
    "print('O valor médio das reservas de petróleo do local_1:', local_1['product'].mean())\n",
    "print('O valor médio das reservas de petróleo do local_2:', local_2['product'].mean())"
   ]
  },
  {
   "cell_type": "markdown",
   "metadata": {},
   "source": [
    "# Cálculo do lucro"
   ]
  },
  {
   "cell_type": "code",
   "execution_count": 29,
   "metadata": {},
   "outputs": [],
   "source": [
    "# Função para o cálculo do lucro\n",
    "def lucro_poco(valid, reserva, receita, custo_1):\n",
    "    \n",
    "    local_200 = valid.sort_values(by='predictions_valid', ascending=False).iloc[:200]\n",
    "    \n",
    "    valid['lucro_predictions'] = valid['predictions_valid'].apply(lambda x: (x*receita)-custo_1 if x>=reserva else 0)\n",
    "        \n",
    "    return local_200 "
   ]
  },
  {
   "cell_type": "markdown",
   "metadata": {},
   "source": [
    "Para o cálculo do lucro de cada região, peguei os 200 maiores valores da reserva que foi predito pelo modelo e apliquei a fórmula do lucro, onde é o quantidade de reserva multiplicada pela receita (4500) menos o custo de apenas 1 posto de petróleo (se para 200 postos o custo é de 100 milhões, o custo para apenas 1 é de 500 mil) e o resultado é um DF com o valor do lucro de cada posto."
   ]
  },
  {
   "cell_type": "code",
   "execution_count": 33,
   "metadata": {},
   "outputs": [
    {
     "name": "stdout",
     "output_type": "stream",
     "text": [
      "       target_valid  predictions_valid  lucro_predictions\n",
      "93073    162.810993         180.180713      310813.208776\n",
      "46784    153.639837         176.252213      293134.959252\n",
      "78948    162.153488         175.850623      291327.804775\n",
      "43388     96.893581         175.658429      290462.930300\n",
      "6496     178.879516         173.299686      279848.587829\n",
      "...             ...                ...                ...\n",
      "30488    179.683422         148.507064      168281.787372\n",
      "98799     95.396917         148.481767      168167.950072\n",
      "53840    160.361464         148.476498      168144.241721\n",
      "4638     102.186603         148.436761      167965.426709\n",
      "75908    119.890261         148.365941      167646.734499\n",
      "\n",
      "[200 rows x 3 columns]\n",
      "39960488.774651304\n"
     ]
    }
   ],
   "source": [
    "# Lucro da região 0\n",
    "lucro_0 = lucro_poco(valid_0,reserva, receita, custo_1 )\n",
    "print(lucro_0)\n",
    "print(lucro_0['lucro_predictions'].sum())"
   ]
  },
  {
   "cell_type": "code",
   "execution_count": 34,
   "metadata": {},
   "outputs": [
    {
     "name": "stdout",
     "output_type": "stream",
     "text": [
      "       target_valid  predictions_valid  lucro_predictions\n",
      "38665    137.945408         139.818970      129185.364156\n",
      "20191    137.945408         139.773423      128980.403308\n",
      "14041    137.945408         139.703330      128664.986409\n",
      "24274    137.945408         139.560938      128024.219177\n",
      "92782    137.945408         139.516754      127825.394320\n",
      "...             ...                ...                ...\n",
      "13370    137.945408         138.421423      122896.404035\n",
      "45823    137.945408         138.416960      122876.320892\n",
      "86987    137.945408         138.413881      122862.463171\n",
      "72313    137.945408         138.412834      122857.752128\n",
      "59892    137.945408         138.410697      122848.135315\n",
      "\n",
      "[200 rows x 3 columns]\n",
      "24857120.519735426\n"
     ]
    }
   ],
   "source": [
    "# Lucro da região 1\n",
    "lucro_1 = lucro_poco(valid_1,reserva, receita, custo_1 )\n",
    "print(lucro_1)\n",
    "print(lucro_1['lucro_predictions'].sum())"
   ]
  },
  {
   "cell_type": "code",
   "execution_count": 35,
   "metadata": {},
   "outputs": [
    {
     "name": "stdout",
     "output_type": "stream",
     "text": [
      "       target_valid  predictions_valid  lucro_predictions\n",
      "98619    175.103291         165.856833      246355.749285\n",
      "46649    131.627481         165.679685      245558.583697\n",
      "82661    141.160070         163.439962      235479.830494\n",
      "53151    159.676082         162.062589      229281.652747\n",
      "18747    142.135203         161.797476      228088.643267\n",
      "...             ...                ...                ...\n",
      "66244    104.949568         142.490763      141208.432752\n",
      "34285     89.492500         142.485922      141186.650401\n",
      "36778    184.895101         142.465777      141095.997523\n",
      "7806     137.480469         142.454763      141046.434686\n",
      "62558    134.507140         142.408851      140839.831073\n",
      "\n",
      "[200 rows x 3 columns]\n",
      "33217543.962432563\n"
     ]
    }
   ],
   "source": [
    "# Lucro da região 2\n",
    "lucro_2 = lucro_poco(valid_2,reserva, receita, custo_1 )\n",
    "print(lucro_2)\n",
    "print(lucro_2['lucro_predictions'].sum())"
   ]
  },
  {
   "cell_type": "markdown",
   "metadata": {},
   "source": [
    "# Bootstrapping "
   ]
  },
  {
   "cell_type": "code",
   "execution_count": 38,
   "metadata": {},
   "outputs": [],
   "source": [
    "import numpy as np\n",
    "import matplotlib.pyplot as plt"
   ]
  },
  {
   "cell_type": "markdown",
   "metadata": {},
   "source": [
    "## local_0"
   ]
  },
  {
   "cell_type": "code",
   "execution_count": 39,
   "metadata": {},
   "outputs": [
    {
     "data": {
      "image/png": "[encoded data removed]",
      "text/plain": [
       "<Figure size 432x288 with 1 Axes>"
      ]
     },
     "metadata": {
      "needs_background": "light"
     },
     "output_type": "display_data"
    }
   ],
   "source": [
    "# Tamanho da amostra original\n",
    "n = len(lucro_0)\n",
    "\n",
    "# Número de amostras de bootstrap\n",
    "n_bootstrap = 1000\n",
    "\n",
    "# Criar 1000 amostras de bootstrap\n",
    "bootstrap_samples = np.random.choice(lucro_0['lucro_predictions'], size=(n_bootstrap, n), replace=True)\n",
    "\n",
    "# Calcular o lucro para cada amostra de bootstrap\n",
    "bootstrap_means = np.mean(bootstrap_samples, axis=1)\n",
    "\n",
    "# Calcular a média, desvio padrão e intervalo de confiança da distribuição de lucro\n",
    "mean = np.mean(bootstrap_means)\n",
    "std = np.std(bootstrap_means)\n",
    "ci_95 = np.percentile(bootstrap_means, [2.5, 97.5])\n",
    "\n",
    "# Plotar o histograma da distribuição de lucro\n",
    "import matplotlib.pyplot as plt\n",
    "plt.hist(bootstrap_means, bins=20)\n",
    "plt.axvline(mean, color='r', linestyle='--', label='Média')\n",
    "plt.axvline(ci_95[0], color='g', linestyle='--', label='Intervalo de Confiança (2.5%)')\n",
    "plt.axvline(ci_95[1], color='g', linestyle='--', label='Intervalo de Confiança (97.5%)')\n",
    "plt.legend()\n",
    "plt.show()"
   ]
  },
  {
   "cell_type": "markdown",
   "metadata": {},
   "source": [
    "## local_1"
   ]
  },
  {
   "cell_type": "code",
   "execution_count": 40,
   "metadata": {},
   "outputs": [
    {
     "data": {
      "image/png": "[encoded data removed]",
      "text/plain": [
       "<Figure size 432x288 with 1 Axes>"
      ]
     },
     "metadata": {
      "needs_background": "light"
     },
     "output_type": "display_data"
    }
   ],
   "source": [
    "# Tamanho da amostra original\n",
    "n = len(lucro_1)\n",
    "\n",
    "# Número de amostras de bootstrap\n",
    "n_bootstrap = 1000\n",
    "\n",
    "# Criar 1000 amostras de bootstrap\n",
    "bootstrap_samples = np.random.choice(lucro_1['lucro_predictions'], size=(n_bootstrap, n), replace=True)\n",
    "\n",
    "# Calcular o lucro para cada amostra de bootstrap\n",
    "bootstrap_means = np.mean(bootstrap_samples, axis=1)\n",
    "\n",
    "# Calcular a média, desvio padrão e intervalo de confiança da distribuição de lucro\n",
    "mean = np.mean(bootstrap_means)\n",
    "std = np.std(bootstrap_means)\n",
    "ci_95 = np.percentile(bootstrap_means, [2.5, 97.5])\n",
    "\n",
    "# Plotar o histograma da distribuição de lucro\n",
    "import matplotlib.pyplot as plt\n",
    "plt.hist(bootstrap_means, bins=20)\n",
    "plt.axvline(mean, color='r', linestyle='--', label='Média')\n",
    "plt.axvline(ci_95[0], color='g', linestyle='--', label='Intervalo de Confiança (2.5%)')\n",
    "plt.axvline(ci_95[1], color='g', linestyle='--', label='Intervalo de Confiança (97.5%)')\n",
    "plt.legend()\n",
    "plt.show()"
   ]
  },
  {
   "cell_type": "markdown",
   "metadata": {},
   "source": [
    "## local_2"
   ]
  },
  {
   "cell_type": "code",
   "execution_count": 41,
   "metadata": {
    "scrolled": true
   },
   "outputs": [
    {
     "data": {
      "image/png": "[encoded data removed]",
      "text/plain": [
       "<Figure size 432x288 with 1 Axes>"
      ]
     },
     "metadata": {
      "needs_background": "light"
     },
     "output_type": "display_data"
    }
   ],
   "source": [
    "# Tamanho da amostra original\n",
    "n = len(lucro_2)\n",
    "\n",
    "# Número de amostras de bootstrap\n",
    "n_bootstrap = 1000\n",
    "\n",
    "# Criar 1000 amostras de bootstrap\n",
    "bootstrap_samples = np.random.choice(lucro_2['lucro_predictions'], size=(n_bootstrap, n), replace=True)\n",
    "\n",
    "# Calcular o lucro para cada amostra de bootstrap\n",
    "bootstrap_means = np.mean(bootstrap_samples, axis=1)\n",
    "\n",
    "# Calcular a média, desvio padrão e intervalo de confiança da distribuição de lucro\n",
    "mean = np.mean(bootstrap_means)\n",
    "std = np.std(bootstrap_means)\n",
    "ci_95 = np.percentile(bootstrap_means, [2.5, 97.5])\n",
    "\n",
    "# Plotar o histograma da distribuição de lucro\n",
    "import matplotlib.pyplot as plt\n",
    "plt.hist(bootstrap_means, bins=20)\n",
    "plt.axvline(mean, color='r', linestyle='--', label='Média')\n",
    "plt.axvline(ci_95[0], color='g', linestyle='--', label='Intervalo de Confiança (2.5%)')\n",
    "plt.axvline(ci_95[1], color='g', linestyle='--', label='Intervalo de Confiança (97.5%)')\n",
    "plt.legend()\n",
    "plt.show()"
   ]
  },
  {
   "cell_type": "markdown",
   "metadata": {},
   "source": [
    "# Conlusão"
   ]
  },
  {
   "cell_type": "markdown",
   "metadata": {},
   "source": [
    "Após analisar todos os locais e postos selecionados, e levando em conta a qualidade do modelo de regressão que montamos, eu acrdito que a melhor região é a segunda. Pois o modelo é mais preciso que os demais e que por mais que apresente o menor lucro, é a que considero ter a menor chance de risco. "
   ]
  }
 ],
 "metadata": {
  "kernelspec": {
   "display_name": "Python 3 (ipykernel)",
   "language": "python",
   "name": "python3"
  },
  "language_info": {
   "codemirror_mode": {
    "name": "ipython",
    "version": 3
   },
   "file_extension": ".py",
   "mimetype": "text/x-python",
   "name": "python",
   "nbconvert_exporter": "python",
   "pygments_lexer": "ipython3",
   "version": "3.9.5"
  },
  "toc": {
   "base_numbering": 1,
   "nav_menu": {},
   "number_sections": true,
   "sideBar": true,
   "skip_h1_title": true,
   "title_cell": "Table of Contents",
   "title_sidebar": "Contents",
   "toc_cell": false,
   "toc_position": {},
   "toc_section_display": true,
   "toc_window_display": false
  }
 },
 "nbformat": 4,
 "nbformat_minor": 2
}
